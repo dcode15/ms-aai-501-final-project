{
 "cells": [
  {
   "cell_type": "code",
   "execution_count": null,
   "id": "90a384f1",
   "metadata": {},
   "outputs": [],
   "source": []
  },
  {
   "cell_type": "code",
   "execution_count": 17,
   "id": "48a7a8a6",
   "metadata": {},
   "outputs": [
    {
     "ename": "IndentationError",
     "evalue": "unindent does not match any outer indentation level (textpreprocessor.py, line 23)",
     "output_type": "error",
     "traceback": [
      "Traceback \u001b[1;36m(most recent call last)\u001b[0m:\n",
      "\u001b[0m  File \u001b[0;32m~\\anaconda3\\Lib\\site-packages\\IPython\\core\\interactiveshell.py:3526\u001b[0m in \u001b[0;35mrun_code\u001b[0m\n    exec(code_obj, self.user_global_ns, self.user_ns)\u001b[0m\n",
      "\u001b[1;36m  Cell \u001b[1;32mIn[17], line 7\u001b[1;36m\n\u001b[1;33m    from textpreprocessor import TextPreprocessor\u001b[1;36m\n",
      "\u001b[1;36m  File \u001b[1;32m~\\Desktop\\Study\\Saad Learnings\\Python\\School Python\\Intro to AI Assignments\\Assignments\\Project\\textpreprocessor.py:23\u001b[1;36m\u001b[0m\n\u001b[1;33m    @staticmethod\u001b[0m\n\u001b[1;37m                 ^\u001b[0m\n\u001b[1;31mIndentationError\u001b[0m\u001b[1;31m:\u001b[0m unindent does not match any outer indentation level\n"
     ]
    }
   ],
   "source": [
    "import json\n",
    "import pandas as pd\n",
    "from sklearn.model_selection import train_test_split\n",
    "from sklearn.svm import SVR\n",
    "from sklearn.feature_extraction.text import TfidfVectorizer\n",
    "from sklearn.metrics import mean_squared_error\n",
    "from textpreprocessor import TextPreprocessor\n",
    "import scipy.sparse as sp\n",
    "# Define the path to your data file\n",
    "data_file_path = \"C:\\\\Users\\\\Saad\\\\Desktop\\\\Study\\\\Saad Learnings\\\\Python\\\\School Python\\\\Intro to AI Assignments\\\\Assignments\\\\Project\\\\Software_5-core.json\"\n",
    "\n",
    "# Read data from the JSON file into a list of dictionaries\n",
    "reviews = []\n",
    "with open(data_file_path, 'r') as file:\n",
    "    for line in file:\n",
    "        review = json.loads(line)\n",
    "        reviews.append(review)\n",
    "\n",
    "# Convert the list of dictionaries into a pandas DataFrame\n",
    "df = pd.DataFrame(reviews)\n",
    "\n",
    "# what I need in the data: \"overall\": 5.0 (stars), \"vote\": \"3\" (helpful button), \"verified\": false (real person)\n"
   ]
  },
  {
   "cell_type": "code",
   "execution_count": null,
   "id": "5a537de6",
   "metadata": {},
   "outputs": [],
   "source": [
    "# Filter out instances where \"verified\" is false\n",
    "df_verified = df[df['verified'] == True]\n",
    "\n",
    "# Preprocess the reviews using the TextPreprocessor\n",
    "processed_df = TextPreprocessor.preprocess_reviews(df_verified)\n",
    "\n",
    "# Extract features and target variable\n",
    "X_text = processed_df[\"cleanedReviewText\"]\n",
    "X_features = processed_df[[\"overall\", \"verified\"]]\n",
    "y = processed_df[\"vote\"]"
   ]
  },
  {
   "cell_type": "code",
   "execution_count": null,
   "id": "bbcf8c97",
   "metadata": {},
   "outputs": [],
   "source": [
    "# Split the data into training and testing sets\n",
    "X_text_train, X_text_test, X_features_train, X_features_test, y_train, y_test = train_test_split(\n",
    "    X_text, X_features, y, test_size=0.2, random_state=42)\n",
    "\n",
    "# Initialize the text preprocessor\n",
    "preprocessor = TextPreprocessor()\n",
    "\n",
    "# Preprocess the training and testing data\n",
    "X_text_train_processed = preprocessor.preprocess_reviews(X_text_train)\n",
    "X_text_test_processed = preprocessor.preprocess_reviews(X_text_test)\n",
    "\n",
    "# Convert text data into numerical features using TF-IDF Vectorizer\n",
    "tfidf_vectorizer = TfidfVectorizer(max_features=10000)\n",
    "X_text_train_tfidf = tfidf_vectorizer.fit_transform(X_text_train_processed['cleanedReviewText'])\n",
    "X_text_test_tfidf = tfidf_vectorizer.transform(X_text_test_processed['cleanedReviewText'])\n",
    "\n",
    "# Combine text features with other features\n",
    "X_train = sp.hstack((X_text_train_tfidf, X_features_train), format='csr')\n",
    "X_test = sp.hstack((X_text_test_tfidf, X_features_test), format='csr')\n",
    "\n",
    "# Initialize the SVR model for linear\n",
    "svr_model = SVR(kernel='linear')\n",
    "\n",
    "# Train the SVR model on the training data\n",
    "svr_model.fit(X_train, y_train)\n",
    "\n",
    "# Make predictions on the testing data\n",
    "y_pred = svr_model.predict(X_test)\n",
    "\n",
    "# Calculate the mean squared error of the model\n",
    "mse = mean_squared_error(y_test, y_pred)\n",
    "print(\"Mean Squared Error:\", mse)"
   ]
  }
 ],
 "metadata": {
  "kernelspec": {
   "display_name": "Python 3 (ipykernel)",
   "language": "python",
   "name": "python3"
  },
  "language_info": {
   "codemirror_mode": {
    "name": "ipython",
    "version": 3
   },
   "file_extension": ".py",
   "mimetype": "text/x-python",
   "name": "python",
   "nbconvert_exporter": "python",
   "pygments_lexer": "ipython3",
   "version": "3.11.5"
  }
 },
 "nbformat": 4,
 "nbformat_minor": 5
}
